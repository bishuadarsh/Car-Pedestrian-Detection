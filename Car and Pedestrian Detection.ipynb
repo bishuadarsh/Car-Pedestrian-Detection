{
 "cells": [
  {
   "cell_type": "code",
   "execution_count": 1,
   "metadata": {},
   "outputs": [
    {
     "name": "stdout",
     "output_type": "stream",
     "text": [
      "/Users/mac/opt/anaconda3/bin/python\n"
     ]
    }
   ],
   "source": [
    "import sys\n",
    "print(sys.executable)"
   ]
  },
  {
   "cell_type": "code",
   "execution_count": 1,
   "metadata": {},
   "outputs": [
    {
     "data": {
      "text/plain": [
       "'4.2.0'"
      ]
     },
     "execution_count": 1,
     "metadata": {},
     "output_type": "execute_result"
    }
   ],
   "source": [
    "import cv2\n",
    "cv2.__version__"
   ]
  },
  {
   "cell_type": "markdown",
   "metadata": {},
   "source": [
    "# Pedestrian detection"
   ]
  },
  {
   "cell_type": "code",
   "execution_count": null,
   "metadata": {},
   "outputs": [],
   "source": [
    "import cv2\n",
    "import numpy as np\n",
    "\n",
    "#body classifier\n",
    "body_classifier = cv2.CascadeClassifier('/Users/mac/Documents/Python Machine Learning/OpenCv/opencv-master/data/haarcascades/haarcascade_fullbody.xml')\n",
    "\n",
    "cap = cv2.VideoCapture('walking.mp4')\n",
    "\n",
    "while cap.isOpened():\n",
    "    \n",
    "    ret, frame = cap.read()\n",
    "    if ret == True:\n",
    "        \n",
    "        frame = cv2.resize(frame, None, fx=0.5, fy=0.5, interpolation=cv2.INTER_LINEAR)\n",
    "    \n",
    "        gray = cv2.cvtColor(frame, cv2.COLOR_BGR2GRAY)\n",
    "        \n",
    "        #Passing frame to body classifier\n",
    "        bodies = body_classifier.detectMultiScale(gray, 1.2, 3)\n",
    "    \n",
    "        for(x,y,w,h) in bodies:\n",
    "            cv2.rectangle(frame, (x,y), (x+w, y+h), (0,255,255), 2)\n",
    "            cv2.imshow('Pedestrian', frame)\n",
    "        \n",
    "        if cv2.waitKey(1) == 13:\n",
    "            break\n",
    "    \n",
    "cap.release()\n",
    "cv2.destroyAllWindows()"
   ]
  },
  {
   "cell_type": "markdown",
   "metadata": {},
   "source": [
    "# Car Detection"
   ]
  },
  {
   "cell_type": "code",
   "execution_count": 1,
   "metadata": {},
   "outputs": [],
   "source": [
    "import cv2\n",
    "import numpy as np\n",
    "import time\n",
    "\n",
    "#body classifier\n",
    "body_classifier = cv2.CascadeClassifier('/Users/mac/Documents/Python Machine Learning/OpenCv/vehicle_detection_haarcascades-master/cars.xml')\n",
    "\n",
    "cap = cv2.VideoCapture('/Users/mac/Documents/Python Machine Learning/OpenCv/video.avi')\n",
    "\n",
    "while cap.isOpened():\n",
    "    time.sleep(0.5)\n",
    "    ret, frame = cap.read()\n",
    "    if ret == True:\n",
    "        \n",
    "        frame = cv2.resize(frame, None, fx=0.5, fy=0.5, interpolation=cv2.INTER_LINEAR)\n",
    "    \n",
    "        gray = cv2.cvtColor(frame, cv2.COLOR_BGR2GRAY)\n",
    "        \n",
    "        #Passing frame to body classifier\n",
    "        bodies = body_classifier.detectMultiScale(gray, 1.2, 3)\n",
    "    \n",
    "        for(x,y,w,h) in bodies:\n",
    "            cv2.rectangle(frame, (x,y), (x+w, y+h), (0,255,255), 2)\n",
    "            cv2.imshow('Pedestrian', frame)\n",
    "        \n",
    "        if cv2.waitKey(1) == 13:\n",
    "            break\n",
    "    \n",
    "cap.release()\n",
    "cv2.destroyAllWindows()"
   ]
  },
  {
   "cell_type": "code",
   "execution_count": null,
   "metadata": {},
   "outputs": [],
   "source": []
  }
 ],
 "metadata": {
  "kernelspec": {
   "display_name": "Python 3",
   "language": "python",
   "name": "python3"
  },
  "language_info": {
   "codemirror_mode": {
    "name": "ipython",
    "version": 3
   },
   "file_extension": ".py",
   "mimetype": "text/x-python",
   "name": "python",
   "nbconvert_exporter": "python",
   "pygments_lexer": "ipython3",
   "version": "3.7.6"
  }
 },
 "nbformat": 4,
 "nbformat_minor": 4
}
